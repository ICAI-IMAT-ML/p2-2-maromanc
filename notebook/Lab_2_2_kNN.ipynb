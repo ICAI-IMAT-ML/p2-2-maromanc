{
 "cells": [
  {
   "cell_type": "markdown",
   "metadata": {},
   "source": [
    "# Laboratory practice 2.2: KNN classification\n",
    "\n",
    "Here we will implement our first ML model based on the _very_ popular KNN algorithm. We will use the preprocessed data from the previous practice, `SimData.dat`. The data should be properly cleaned already, and we should have available the two resulting files `train.dat` and `test.dat` with the training and testing data, respectively. Therefore, we will not need to do the preprocessing here, which is why we will (almost) jump to implementing KNN and applying it to the data."
   ]
  },
  {
   "cell_type": "code",
   "execution_count": 1,
   "metadata": {
    "id": "M2DWzwCyFqNr"
   },
   "outputs": [],
   "source": [
    "# Load the modules you'll need later\n",
    "\n",
    "# Plotting libraries\n",
    "import seaborn as sns\n",
    "import matplotlib.pyplot as plt\n",
    "sns.set_theme()\n",
    "\n",
    "# Data management libraries\n",
    "import numpy as np # linear algebra\n",
    "import pandas as pd # data processing, CSV file I/O (e.g. pd.read_csv)\n",
    "\n",
    "# Add Lab_2_2_kNN.py to the path\n",
    "import sys\n",
    "sys.path.append('src/Lab_2_2kNN.py')\n",
    "\n",
    "# Import the functions from the solution\n",
    "from P2_2_LogReg_KNN_solution import knn, plot_probability_histograms, plot_roc_curve, evaluate_classification_metrics, plot_2Dmodel_predictions, plot_calibration_curve"
   ]
  },
  {
   "cell_type": "markdown",
   "metadata": {
    "id": "jhuWAmScFqNu"
   },
   "source": [
    "## 1. Prepare the Dataset"
   ]
  },
  {
   "cell_type": "markdown",
   "metadata": {
    "id": "DyWEeIfqnbcB"
   },
   "source": [
    "This part of the process you already did in the previous practice! You can reuse everything here. Moreover, if you saved the train/test split into `train.dat` and `test.dat`, you can use them here!"
   ]
  },
  {
   "cell_type": "code",
   "execution_count": 5,
   "metadata": {
    "id": "j-ue2KRNFqNv"
   },
   "outputs": [
    {
     "ename": "OSError",
     "evalue": "[Errno 22] Invalid argument: 'Lab_2_1_intro\\train_dat.csv'",
     "output_type": "error",
     "traceback": [
      "\u001b[1;31m---------------------------------------------------------------------------\u001b[0m",
      "\u001b[1;31mOSError\u001b[0m                                   Traceback (most recent call last)",
      "Cell \u001b[1;32mIn[5], line 1\u001b[0m\n\u001b[1;32m----> 1\u001b[0m train_df \u001b[38;5;241m=\u001b[39m pd\u001b[38;5;241m.\u001b[39mread_csv(\u001b[38;5;124m\"\u001b[39m\u001b[38;5;124mLab_2_1_intro\u001b[39m\u001b[38;5;130;01m\\t\u001b[39;00m\u001b[38;5;124mrain_dat.csv\u001b[39m\u001b[38;5;124m\"\u001b[39m)\n\u001b[0;32m      2\u001b[0m test_df \u001b[38;5;241m=\u001b[39m pd\u001b[38;5;241m.\u001b[39mread_csv(\u001b[38;5;124m\"\u001b[39m\u001b[38;5;124mLab_2_1_intro\u001b[39m\u001b[38;5;130;01m\\t\u001b[39;00m\u001b[38;5;124mest_dat.csv\u001b[39m\u001b[38;5;124m\"\u001b[39m)\n\u001b[0;32m      4\u001b[0m \u001b[38;5;66;03m# Convert output variable to factor\u001b[39;00m\n",
      "File \u001b[1;32mc:\\Users\\mroma\\anaconda3\\Lib\\site-packages\\pandas\\io\\parsers\\readers.py:912\u001b[0m, in \u001b[0;36mread_csv\u001b[1;34m(filepath_or_buffer, sep, delimiter, header, names, index_col, usecols, dtype, engine, converters, true_values, false_values, skipinitialspace, skiprows, skipfooter, nrows, na_values, keep_default_na, na_filter, verbose, skip_blank_lines, parse_dates, infer_datetime_format, keep_date_col, date_parser, date_format, dayfirst, cache_dates, iterator, chunksize, compression, thousands, decimal, lineterminator, quotechar, quoting, doublequote, escapechar, comment, encoding, encoding_errors, dialect, on_bad_lines, delim_whitespace, low_memory, memory_map, float_precision, storage_options, dtype_backend)\u001b[0m\n\u001b[0;32m    899\u001b[0m kwds_defaults \u001b[38;5;241m=\u001b[39m _refine_defaults_read(\n\u001b[0;32m    900\u001b[0m     dialect,\n\u001b[0;32m    901\u001b[0m     delimiter,\n\u001b[1;32m   (...)\u001b[0m\n\u001b[0;32m    908\u001b[0m     dtype_backend\u001b[38;5;241m=\u001b[39mdtype_backend,\n\u001b[0;32m    909\u001b[0m )\n\u001b[0;32m    910\u001b[0m kwds\u001b[38;5;241m.\u001b[39mupdate(kwds_defaults)\n\u001b[1;32m--> 912\u001b[0m \u001b[38;5;28;01mreturn\u001b[39;00m _read(filepath_or_buffer, kwds)\n",
      "File \u001b[1;32mc:\\Users\\mroma\\anaconda3\\Lib\\site-packages\\pandas\\io\\parsers\\readers.py:577\u001b[0m, in \u001b[0;36m_read\u001b[1;34m(filepath_or_buffer, kwds)\u001b[0m\n\u001b[0;32m    574\u001b[0m _validate_names(kwds\u001b[38;5;241m.\u001b[39mget(\u001b[38;5;124m\"\u001b[39m\u001b[38;5;124mnames\u001b[39m\u001b[38;5;124m\"\u001b[39m, \u001b[38;5;28;01mNone\u001b[39;00m))\n\u001b[0;32m    576\u001b[0m \u001b[38;5;66;03m# Create the parser.\u001b[39;00m\n\u001b[1;32m--> 577\u001b[0m parser \u001b[38;5;241m=\u001b[39m TextFileReader(filepath_or_buffer, \u001b[38;5;241m*\u001b[39m\u001b[38;5;241m*\u001b[39mkwds)\n\u001b[0;32m    579\u001b[0m \u001b[38;5;28;01mif\u001b[39;00m chunksize \u001b[38;5;129;01mor\u001b[39;00m iterator:\n\u001b[0;32m    580\u001b[0m     \u001b[38;5;28;01mreturn\u001b[39;00m parser\n",
      "File \u001b[1;32mc:\\Users\\mroma\\anaconda3\\Lib\\site-packages\\pandas\\io\\parsers\\readers.py:1407\u001b[0m, in \u001b[0;36mTextFileReader.__init__\u001b[1;34m(self, f, engine, **kwds)\u001b[0m\n\u001b[0;32m   1404\u001b[0m     \u001b[38;5;28mself\u001b[39m\u001b[38;5;241m.\u001b[39moptions[\u001b[38;5;124m\"\u001b[39m\u001b[38;5;124mhas_index_names\u001b[39m\u001b[38;5;124m\"\u001b[39m] \u001b[38;5;241m=\u001b[39m kwds[\u001b[38;5;124m\"\u001b[39m\u001b[38;5;124mhas_index_names\u001b[39m\u001b[38;5;124m\"\u001b[39m]\n\u001b[0;32m   1406\u001b[0m \u001b[38;5;28mself\u001b[39m\u001b[38;5;241m.\u001b[39mhandles: IOHandles \u001b[38;5;241m|\u001b[39m \u001b[38;5;28;01mNone\u001b[39;00m \u001b[38;5;241m=\u001b[39m \u001b[38;5;28;01mNone\u001b[39;00m\n\u001b[1;32m-> 1407\u001b[0m \u001b[38;5;28mself\u001b[39m\u001b[38;5;241m.\u001b[39m_engine \u001b[38;5;241m=\u001b[39m \u001b[38;5;28mself\u001b[39m\u001b[38;5;241m.\u001b[39m_make_engine(f, \u001b[38;5;28mself\u001b[39m\u001b[38;5;241m.\u001b[39mengine)\n",
      "File \u001b[1;32mc:\\Users\\mroma\\anaconda3\\Lib\\site-packages\\pandas\\io\\parsers\\readers.py:1661\u001b[0m, in \u001b[0;36mTextFileReader._make_engine\u001b[1;34m(self, f, engine)\u001b[0m\n\u001b[0;32m   1659\u001b[0m     \u001b[38;5;28;01mif\u001b[39;00m \u001b[38;5;124m\"\u001b[39m\u001b[38;5;124mb\u001b[39m\u001b[38;5;124m\"\u001b[39m \u001b[38;5;129;01mnot\u001b[39;00m \u001b[38;5;129;01min\u001b[39;00m mode:\n\u001b[0;32m   1660\u001b[0m         mode \u001b[38;5;241m+\u001b[39m\u001b[38;5;241m=\u001b[39m \u001b[38;5;124m\"\u001b[39m\u001b[38;5;124mb\u001b[39m\u001b[38;5;124m\"\u001b[39m\n\u001b[1;32m-> 1661\u001b[0m \u001b[38;5;28mself\u001b[39m\u001b[38;5;241m.\u001b[39mhandles \u001b[38;5;241m=\u001b[39m get_handle(\n\u001b[0;32m   1662\u001b[0m     f,\n\u001b[0;32m   1663\u001b[0m     mode,\n\u001b[0;32m   1664\u001b[0m     encoding\u001b[38;5;241m=\u001b[39m\u001b[38;5;28mself\u001b[39m\u001b[38;5;241m.\u001b[39moptions\u001b[38;5;241m.\u001b[39mget(\u001b[38;5;124m\"\u001b[39m\u001b[38;5;124mencoding\u001b[39m\u001b[38;5;124m\"\u001b[39m, \u001b[38;5;28;01mNone\u001b[39;00m),\n\u001b[0;32m   1665\u001b[0m     compression\u001b[38;5;241m=\u001b[39m\u001b[38;5;28mself\u001b[39m\u001b[38;5;241m.\u001b[39moptions\u001b[38;5;241m.\u001b[39mget(\u001b[38;5;124m\"\u001b[39m\u001b[38;5;124mcompression\u001b[39m\u001b[38;5;124m\"\u001b[39m, \u001b[38;5;28;01mNone\u001b[39;00m),\n\u001b[0;32m   1666\u001b[0m     memory_map\u001b[38;5;241m=\u001b[39m\u001b[38;5;28mself\u001b[39m\u001b[38;5;241m.\u001b[39moptions\u001b[38;5;241m.\u001b[39mget(\u001b[38;5;124m\"\u001b[39m\u001b[38;5;124mmemory_map\u001b[39m\u001b[38;5;124m\"\u001b[39m, \u001b[38;5;28;01mFalse\u001b[39;00m),\n\u001b[0;32m   1667\u001b[0m     is_text\u001b[38;5;241m=\u001b[39mis_text,\n\u001b[0;32m   1668\u001b[0m     errors\u001b[38;5;241m=\u001b[39m\u001b[38;5;28mself\u001b[39m\u001b[38;5;241m.\u001b[39moptions\u001b[38;5;241m.\u001b[39mget(\u001b[38;5;124m\"\u001b[39m\u001b[38;5;124mencoding_errors\u001b[39m\u001b[38;5;124m\"\u001b[39m, \u001b[38;5;124m\"\u001b[39m\u001b[38;5;124mstrict\u001b[39m\u001b[38;5;124m\"\u001b[39m),\n\u001b[0;32m   1669\u001b[0m     storage_options\u001b[38;5;241m=\u001b[39m\u001b[38;5;28mself\u001b[39m\u001b[38;5;241m.\u001b[39moptions\u001b[38;5;241m.\u001b[39mget(\u001b[38;5;124m\"\u001b[39m\u001b[38;5;124mstorage_options\u001b[39m\u001b[38;5;124m\"\u001b[39m, \u001b[38;5;28;01mNone\u001b[39;00m),\n\u001b[0;32m   1670\u001b[0m )\n\u001b[0;32m   1671\u001b[0m \u001b[38;5;28;01massert\u001b[39;00m \u001b[38;5;28mself\u001b[39m\u001b[38;5;241m.\u001b[39mhandles \u001b[38;5;129;01mis\u001b[39;00m \u001b[38;5;129;01mnot\u001b[39;00m \u001b[38;5;28;01mNone\u001b[39;00m\n\u001b[0;32m   1672\u001b[0m f \u001b[38;5;241m=\u001b[39m \u001b[38;5;28mself\u001b[39m\u001b[38;5;241m.\u001b[39mhandles\u001b[38;5;241m.\u001b[39mhandle\n",
      "File \u001b[1;32mc:\\Users\\mroma\\anaconda3\\Lib\\site-packages\\pandas\\io\\common.py:859\u001b[0m, in \u001b[0;36mget_handle\u001b[1;34m(path_or_buf, mode, encoding, compression, memory_map, is_text, errors, storage_options)\u001b[0m\n\u001b[0;32m    854\u001b[0m \u001b[38;5;28;01melif\u001b[39;00m \u001b[38;5;28misinstance\u001b[39m(handle, \u001b[38;5;28mstr\u001b[39m):\n\u001b[0;32m    855\u001b[0m     \u001b[38;5;66;03m# Check whether the filename is to be opened in binary mode.\u001b[39;00m\n\u001b[0;32m    856\u001b[0m     \u001b[38;5;66;03m# Binary mode does not support 'encoding' and 'newline'.\u001b[39;00m\n\u001b[0;32m    857\u001b[0m     \u001b[38;5;28;01mif\u001b[39;00m ioargs\u001b[38;5;241m.\u001b[39mencoding \u001b[38;5;129;01mand\u001b[39;00m \u001b[38;5;124m\"\u001b[39m\u001b[38;5;124mb\u001b[39m\u001b[38;5;124m\"\u001b[39m \u001b[38;5;129;01mnot\u001b[39;00m \u001b[38;5;129;01min\u001b[39;00m ioargs\u001b[38;5;241m.\u001b[39mmode:\n\u001b[0;32m    858\u001b[0m         \u001b[38;5;66;03m# Encoding\u001b[39;00m\n\u001b[1;32m--> 859\u001b[0m         handle \u001b[38;5;241m=\u001b[39m \u001b[38;5;28mopen\u001b[39m(\n\u001b[0;32m    860\u001b[0m             handle,\n\u001b[0;32m    861\u001b[0m             ioargs\u001b[38;5;241m.\u001b[39mmode,\n\u001b[0;32m    862\u001b[0m             encoding\u001b[38;5;241m=\u001b[39mioargs\u001b[38;5;241m.\u001b[39mencoding,\n\u001b[0;32m    863\u001b[0m             errors\u001b[38;5;241m=\u001b[39merrors,\n\u001b[0;32m    864\u001b[0m             newline\u001b[38;5;241m=\u001b[39m\u001b[38;5;124m\"\u001b[39m\u001b[38;5;124m\"\u001b[39m,\n\u001b[0;32m    865\u001b[0m         )\n\u001b[0;32m    866\u001b[0m     \u001b[38;5;28;01melse\u001b[39;00m:\n\u001b[0;32m    867\u001b[0m         \u001b[38;5;66;03m# Binary mode\u001b[39;00m\n\u001b[0;32m    868\u001b[0m         handle \u001b[38;5;241m=\u001b[39m \u001b[38;5;28mopen\u001b[39m(handle, ioargs\u001b[38;5;241m.\u001b[39mmode)\n",
      "\u001b[1;31mOSError\u001b[0m: [Errno 22] Invalid argument: 'Lab_2_1_intro\\train_dat.csv'"
     ]
    }
   ],
   "source": [
    "\n",
    "train_df = pd.read_csv(\"Lab_2_1_intro\\train_dat.csv\")\n",
    "test_df = pd.read_csv(\"Lab_2_1_intro\\test_dat.csv\")\n",
    "\n",
    "# Convert output variable to factor\n",
    "train_df[\"Y\"] = train_df[\"Y\"].astype(\"category\")\n",
    "test_df[\"Y\"] = test_df[\"Y\"].astype(\"category\")"
   ]
  },
  {
   "cell_type": "code",
   "execution_count": 4,
   "metadata": {
    "id": "b6F2BtZdFqNx"
   },
   "outputs": [],
   "source": [
    "# Define input and output variables, and store X_train, X_test, y_train and y_test matrices\n",
    "input_vars = ['X1','X2']\n",
    "target_var = 'Y'\n",
    "\n",
    "X_train = train_df[input_vars]\n",
    "y_train = train_df[target_var]\n",
    "X_test = test_df[input_vars]\n",
    "y_test = test_df[target_var]"
   ]
  },
  {
   "cell_type": "markdown",
   "metadata": {
    "id": "uuc81ZpdFqNy"
   },
   "source": [
    "## 2. Training of Machine Learning models"
   ]
  },
  {
   "cell_type": "markdown",
   "metadata": {
    "id": "KocL1hskFqNy"
   },
   "source": [
    "#### Minkowski Distance"
   ]
  },
  {
   "cell_type": "markdown",
   "metadata": {
    "id": "Qb3UpDNzFqNz"
   },
   "source": [
    "<center><img alt=\"minkowski distance\" src=\"data:image/png;base64,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\"/></center>"
   ]
  },
  {
   "cell_type": "markdown",
   "metadata": {
    "id": "a0YN0JfSFqNz"
   },
   "source": [
    "#### k-Nearest Neighbors Model"
   ]
  },
  {
   "cell_type": "markdown",
   "metadata": {
    "id": "GnJOxSfHFqNz"
   },
   "source": [
    "- [K-Nearest Neighbours](https://scikit-learn.org/stable/modules/neighbors.html#classification)\n",
    "- [KNeighborsClassifier](https://scikit-learn.org/stable/modules/generated/sklearn.neighbors.KNeighborsClassifier.html)"
   ]
  },
  {
   "cell_type": "code",
   "execution_count": null,
   "metadata": {
    "id": "JmB6PazkFqN0"
   },
   "outputs": [],
   "source": [
    "# Inputs of the model. Change accordingly to perform feature selection\n",
    "INPUTS_KNN = input_vars\n",
    "\n",
    "# Define hyperparameters of the model\n",
    "k = 31 # Number of nearest neighbors\n",
    "p = 2 # Order of Minkowski distance (what distance is this?)\n",
    "\n",
    "# Create a model object\n",
    "knn_fit = knn()\n",
    "print(knn_fit)"
   ]
  },
  {
   "cell_type": "code",
   "execution_count": null,
   "metadata": {
    "id": "q0H0q2ZEFqN0"
   },
   "outputs": [],
   "source": [
    "# Train model\n",
    "knn_fit.fit(X_train[INPUTS_KNN].values, y_train.values, k=k, p=p)\n",
    "print(\"kNN Trained\")\n",
    "print(knn_fit)"
   ]
  },
  {
   "cell_type": "code",
   "execution_count": null,
   "metadata": {},
   "outputs": [],
   "source": [
    "model_predictions = plot_2Dmodel_predictions(X_train[INPUTS_KNN].values, y_train.values, knn_fit, 50)"
   ]
  },
  {
   "cell_type": "code",
   "execution_count": null,
   "metadata": {
    "id": "a-wXpaciFqN1"
   },
   "outputs": [],
   "source": [
    "# Obtain train performance metrics\n",
    "evaluate_classification_metrics(y_train, knn_fit.predict(X_train[INPUTS_KNN].values), 'YES')"
   ]
  },
  {
   "cell_type": "code",
   "execution_count": null,
   "metadata": {
    "id": "0dR9t5dTFqN1"
   },
   "outputs": [],
   "source": [
    "# Obtain test performance metrics\n",
    "evaluate_classification_metrics(y_test, knn_fit.predict(X_test[INPUTS_KNN].values),  'YES')"
   ]
  },
  {
   "cell_type": "code",
   "execution_count": 10,
   "metadata": {
    "id": "596SA2Y3hLpg"
   },
   "outputs": [],
   "source": [
    "probs = knn_fit.predict_proba(X_train.values)"
   ]
  },
  {
   "cell_type": "code",
   "execution_count": null,
   "metadata": {},
   "outputs": [],
   "source": [
    "calibration_curve = plot_calibration_curve(y_train.values, probs[:,1], 'YES')"
   ]
  },
  {
   "cell_type": "code",
   "execution_count": null,
   "metadata": {},
   "outputs": [],
   "source": [
    "probability_histograms = plot_probability_histograms(y_train.values, probs[:,1], 'YES')"
   ]
  },
  {
   "cell_type": "code",
   "execution_count": null,
   "metadata": {},
   "outputs": [],
   "source": [
    "roc_curve = plot_roc_curve(y_train.values, probs[:,1], 'YES')"
   ]
  }
 ],
 "metadata": {
  "colab": {
   "provenance": []
  },
  "kernelspec": {
   "display_name": "base",
   "language": "python",
   "name": "python3"
  },
  "language_info": {
   "codemirror_mode": {
    "name": "ipython",
    "version": 3
   },
   "file_extension": ".py",
   "mimetype": "text/x-python",
   "name": "python",
   "nbconvert_exporter": "python",
   "pygments_lexer": "ipython3",
   "version": "3.11.4"
  }
 },
 "nbformat": 4,
 "nbformat_minor": 0
}
